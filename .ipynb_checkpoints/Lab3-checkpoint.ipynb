{
 "cells": [
  {
   "cell_type": "code",
   "execution_count": 1,
   "id": "1077ba3e",
   "metadata": {},
   "outputs": [],
   "source": [
    "import pandas as pd\n",
    "import numpy as np\n",
    "\n",
    "# Leer los archivos csv como dataframes\n",
    "file1 = pd.read_csv('files_for_lab/csv_files/file1.csv')\n",
    "file2 = pd.read_csv('files_for_lab/csv_files/file2.csv')\n",
    "file3 = pd.read_csv('files_for_lab/csv_files/file3.csv')\n"
   ]
  },
  {
   "cell_type": "code",
   "execution_count": 2,
   "id": "38108806",
   "metadata": {},
   "outputs": [
    {
     "name": "stdout",
     "output_type": "stream",
     "text": [
      "File 1 shape: (4008, 11)\n",
      "File 2 shape: (996, 11)\n",
      "File 3 shape: (7070, 11)\n"
     ]
    }
   ],
   "source": [
    "#Esto lo uso para ver si lo hice bien\n",
    "print(\"File 1 shape:\", file1.shape)\n",
    "print(\"File 2 shape:\", file2.shape)\n",
    "print(\"File 3 shape:\", file3.shape)\n"
   ]
  },
  {
   "cell_type": "code",
   "execution_count": 3,
   "id": "50700c41",
   "metadata": {},
   "outputs": [
    {
     "name": "stdout",
     "output_type": "stream",
     "text": [
      "Index(['Customer', 'ST', 'GENDER', 'Education', 'Customer Lifetime Value',\n",
      "       'Income', 'Monthly Premium Auto', 'Number of Open Complaints',\n",
      "       'Policy Type', 'Vehicle Class', 'Total Claim Amount'],\n",
      "      dtype='object')\n",
      "Index(['Customer', 'ST', 'GENDER', 'Education', 'Customer Lifetime Value',\n",
      "       'Income', 'Monthly Premium Auto', 'Number of Open Complaints',\n",
      "       'Total Claim Amount', 'Policy Type', 'Vehicle Class'],\n",
      "      dtype='object')\n",
      "Index(['Customer', 'State', 'Customer Lifetime Value', 'Education', 'Gender',\n",
      "       'Income', 'Monthly Premium Auto', 'Number of Open Complaints',\n",
      "       'Policy Type', 'Total Claim Amount', 'Vehicle Class'],\n",
      "      dtype='object')\n"
     ]
    }
   ],
   "source": [
    "#VEO EL NOMBRE DE LAS COLUMNAS\n",
    "print(file1.columns)\n",
    "print(file2.columns)\n",
    "print(file3.columns)\n"
   ]
  },
  {
   "cell_type": "code",
   "execution_count": 4,
   "id": "37559242",
   "metadata": {},
   "outputs": [],
   "source": [
    "# Para el primer DataFrame\n",
    "file1 = file1.rename(columns={'Customer': 'Cliente', 'ST': 'Estado', 'GENDER': 'Género', 'Education': 'Educación', \n",
    "                              'Customer Lifetime Value': 'Valor de vida del cliente', 'Income': 'Ingreso', \n",
    "                              'Monthly Premium Auto': 'Prima mensual del auto', 'Number of Open Complaints': 'Número de reclamos abiertos', \n",
    "                              'Policy Type': 'Tipo de póliza', 'Vehicle Class': 'Clase del vehículo', \n",
    "                              'Total Claim Amount': 'Monto total de reclamo'})\n",
    "\n",
    "# Para el segundo DataFrame\n",
    "file2 = file2.rename(columns={'Customer': 'Cliente', 'ST': 'Estado', 'GENDER': 'Género', 'Education': 'Educación', \n",
    "                              'Customer Lifetime Value': 'Valor de vida del cliente', 'Income': 'Ingreso', \n",
    "                              'Monthly Premium Auto': 'Prima mensual del auto', 'Number of Open Complaints': 'Número de reclamos abiertos', \n",
    "                              'Total Claim Amount': 'Monto total de reclamo', 'Policy Type': 'Tipo de póliza', \n",
    "                              'Vehicle Class': 'Clase del vehículo'})\n",
    "\n",
    "# Para el tercer DataFrame\n",
    "file3 = file3.rename(columns={'Customer': 'Cliente', 'State': 'Estado', 'Customer Lifetime Value': 'Valor de vida del cliente',\n",
    "                              'Education': 'Educación', 'Gender': 'Género', 'Income': 'Ingreso',\n",
    "                              'Monthly Premium Auto': 'Prima mensual del auto', 'Number of Open Complaints': 'Número de reclamos abiertos',\n",
    "                              'Policy Type': 'Tipo de póliza', 'Total Claim Amount': 'Monto total de reclamo',\n",
    "                              'Vehicle Class': 'Clase del vehículo'})"
   ]
  },
  {
   "cell_type": "code",
   "execution_count": 5,
   "id": "b15eb72c",
   "metadata": {},
   "outputs": [
    {
     "name": "stdout",
     "output_type": "stream",
     "text": [
      "Index(['Cliente', 'Estado', 'Género', 'Educación', 'Valor de vida del cliente',\n",
      "       'Ingreso', 'Prima mensual del auto', 'Número de reclamos abiertos',\n",
      "       'Tipo de póliza', 'Clase del vehículo', 'Monto total de reclamo'],\n",
      "      dtype='object')\n",
      "Index(['Cliente', 'Estado', 'Género', 'Educación', 'Valor de vida del cliente',\n",
      "       'Ingreso', 'Prima mensual del auto', 'Número de reclamos abiertos',\n",
      "       'Monto total de reclamo', 'Tipo de póliza', 'Clase del vehículo'],\n",
      "      dtype='object')\n",
      "Index(['Cliente', 'Estado', 'Valor de vida del cliente', 'Educación', 'Género',\n",
      "       'Ingreso', 'Prima mensual del auto', 'Número de reclamos abiertos',\n",
      "       'Tipo de póliza', 'Monto total de reclamo', 'Clase del vehículo'],\n",
      "      dtype='object')\n"
     ]
    }
   ],
   "source": [
    "#CHECO SI SE HIZO LOS CAMBIOS \n",
    "print(file1.columns)\n",
    "print(file2.columns)\n",
    "print(file3.columns)\n"
   ]
  },
  {
   "cell_type": "code",
   "execution_count": 6,
   "id": "1628f139",
   "metadata": {},
   "outputs": [],
   "source": [
    "# Concatenar dataframes\n",
    "data = pd.concat([file1, file2, file3], axis=0)"
   ]
  },
  {
   "cell_type": "code",
   "execution_count": 7,
   "id": "997099e0",
   "metadata": {},
   "outputs": [
    {
     "name": "stdout",
     "output_type": "stream",
     "text": [
      "(12074, 11)\n",
      "   Cliente      Estado Género             Educación Valor de vida del cliente  \\\n",
      "0  RB50392  Washington    NaN                Master                       NaN   \n",
      "1  QZ44356     Arizona      F              Bachelor                697953.59%   \n",
      "2  AI49188      Nevada      F              Bachelor               1288743.17%   \n",
      "3  WW63253  California      M              Bachelor                764586.18%   \n",
      "4  GA49547  Washington      M  High School or Below                536307.65%   \n",
      "\n",
      "   Ingreso  Prima mensual del auto Número de reclamos abiertos  \\\n",
      "0      0.0                  1000.0                      1/0/00   \n",
      "1      0.0                    94.0                      1/0/00   \n",
      "2  48767.0                   108.0                      1/0/00   \n",
      "3      0.0                   106.0                      1/0/00   \n",
      "4  36357.0                    68.0                      1/0/00   \n",
      "\n",
      "   Tipo de póliza Clase del vehículo  Monto total de reclamo  \n",
      "0   Personal Auto      Four-Door Car                2.704934  \n",
      "1   Personal Auto      Four-Door Car             1131.464935  \n",
      "2   Personal Auto       Two-Door Car              566.472247  \n",
      "3  Corporate Auto                SUV              529.881344  \n",
      "4   Personal Auto      Four-Door Car               17.269323  \n",
      "     Cliente Estado Género Educación Valor de vida del cliente  Ingreso  \\\n",
      "2808     NaN    NaN    NaN       NaN                       NaN      NaN   \n",
      "\n",
      "      Prima mensual del auto Número de reclamos abiertos Tipo de póliza  \\\n",
      "2808                     NaN                         NaN            NaN   \n",
      "\n",
      "     Clase del vehículo  Monto total de reclamo  \n",
      "2808                NaN                     NaN  \n"
     ]
    }
   ],
   "source": [
    "print(data.shape)\n",
    "print(data.head())\n",
    "print(data.sample())"
   ]
  },
  {
   "cell_type": "code",
   "execution_count": 8,
   "id": "7962ac85",
   "metadata": {},
   "outputs": [],
   "source": [
    "# Identificar columnas numéricas\n",
    "numeric_cols = data.select_dtypes(include=['float64', 'int64']).columns.tolist()"
   ]
  },
  {
   "cell_type": "code",
   "execution_count": 9,
   "id": "5e95771f",
   "metadata": {},
   "outputs": [
    {
     "name": "stdout",
     "output_type": "stream",
     "text": [
      "['Ingreso', 'Prima mensual del auto', 'Monto total de reclamo']\n"
     ]
    }
   ],
   "source": [
    "print(numeric_cols)"
   ]
  },
  {
   "cell_type": "code",
   "execution_count": 10,
   "id": "c3c12941",
   "metadata": {},
   "outputs": [],
   "source": [
    "categorical_cols = data.select_dtypes(include=['object']).columns.tolist()"
   ]
  },
  {
   "cell_type": "code",
   "execution_count": 11,
   "id": "fa1dc2fe",
   "metadata": {},
   "outputs": [
    {
     "name": "stdout",
     "output_type": "stream",
     "text": [
      "['Cliente', 'Estado', 'Género', 'Educación', 'Valor de vida del cliente', 'Número de reclamos abiertos', 'Tipo de póliza', 'Clase del vehículo']\n"
     ]
    }
   ],
   "source": [
    "print(categorical_cols)"
   ]
  },
  {
   "cell_type": "code",
   "execution_count": 12,
   "id": "2da70f02",
   "metadata": {},
   "outputs": [],
   "source": [
    "data = data.drop(['Educación', 'Número de reclamos abiertos'], axis=1)"
   ]
  },
  {
   "cell_type": "code",
   "execution_count": 13,
   "id": "3c47ce6c",
   "metadata": {},
   "outputs": [
    {
     "name": "stdout",
     "output_type": "stream",
     "text": [
      "      Cliente      Estado Género Valor de vida del cliente  Ingreso  \\\n",
      "0     RB50392  Washington    NaN                       NaN      0.0   \n",
      "1     QZ44356     Arizona      F                697953.59%      0.0   \n",
      "2     AI49188      Nevada      F               1288743.17%  48767.0   \n",
      "3     WW63253  California      M                764586.18%      0.0   \n",
      "4     GA49547  Washington      M                536307.65%  36357.0   \n",
      "...       ...         ...    ...                       ...      ...   \n",
      "7065  LA72316  California      M               23405.98798  71941.0   \n",
      "7066  PK87824  California      F               3096.511217  21604.0   \n",
      "7067  TD14365  California      M               8163.890428      0.0   \n",
      "7068  UP19263  California      M               7524.442436  21941.0   \n",
      "7069  Y167826  California      M               2611.836866      0.0   \n",
      "\n",
      "      Prima mensual del auto  Tipo de póliza Clase del vehículo  \\\n",
      "0                     1000.0   Personal Auto      Four-Door Car   \n",
      "1                       94.0   Personal Auto      Four-Door Car   \n",
      "2                      108.0   Personal Auto       Two-Door Car   \n",
      "3                      106.0  Corporate Auto                SUV   \n",
      "4                       68.0   Personal Auto      Four-Door Car   \n",
      "...                      ...             ...                ...   \n",
      "7065                    73.0   Personal Auto      Four-Door Car   \n",
      "7066                    79.0  Corporate Auto      Four-Door Car   \n",
      "7067                    85.0  Corporate Auto      Four-Door Car   \n",
      "7068                    96.0   Personal Auto      Four-Door Car   \n",
      "7069                    77.0  Corporate Auto       Two-Door Car   \n",
      "\n",
      "      Monto total de reclamo  \n",
      "0                   2.704934  \n",
      "1                1131.464935  \n",
      "2                 566.472247  \n",
      "3                 529.881344  \n",
      "4                  17.269323  \n",
      "...                      ...  \n",
      "7065              198.234764  \n",
      "7066              379.200000  \n",
      "7067              790.784983  \n",
      "7068              691.200000  \n",
      "7069              369.600000  \n",
      "\n",
      "[12074 rows x 9 columns]\n"
     ]
    }
   ],
   "source": [
    "print(data)"
   ]
  },
  {
   "cell_type": "code",
   "execution_count": 14,
   "id": "b76c2beb",
   "metadata": {},
   "outputs": [
    {
     "data": {
      "text/plain": [
       "0               NaN\n",
       "1        697953.59%\n",
       "2       1288743.17%\n",
       "3        764586.18%\n",
       "4        536307.65%\n",
       "           ...     \n",
       "7065    23405.98798\n",
       "7066    3096.511217\n",
       "7067    8163.890428\n",
       "7068    7524.442436\n",
       "7069    2611.836866\n",
       "Name: Valor de vida del cliente, Length: 12074, dtype: object"
      ]
     },
     "execution_count": 14,
     "metadata": {},
     "output_type": "execute_result"
    }
   ],
   "source": [
    "data['Valor de vida del cliente']"
   ]
  },
  {
   "cell_type": "code",
   "execution_count": 15,
   "id": "991d5988",
   "metadata": {
    "scrolled": true
   },
   "outputs": [
    {
     "name": "stdout",
     "output_type": "stream",
     "text": [
      "Cliente                       object\n",
      "Estado                        object\n",
      "Género                        object\n",
      "Valor de vida del cliente     object\n",
      "Ingreso                      float64\n",
      "Prima mensual del auto       float64\n",
      "Tipo de póliza                object\n",
      "Clase del vehículo            object\n",
      "Monto total de reclamo       float64\n",
      "dtype: object\n"
     ]
    }
   ],
   "source": [
    "print(data.dtypes)"
   ]
  },
  {
   "cell_type": "code",
   "execution_count": 16,
   "id": "154ab7a9",
   "metadata": {
    "scrolled": true
   },
   "outputs": [
    {
     "name": "stdout",
     "output_type": "stream",
     "text": [
      "16468.220790    6\n",
      "5246.278375     6\n",
      "22332.439460    6\n",
      "4270.034394     6\n",
      "5107.163002     6\n",
      "               ..\n",
      "7477.176362     1\n",
      "15700.284360    1\n",
      "2968.077571     1\n",
      "5452.171237     1\n",
      "2611.836866     1\n",
      "Name: Valor de vida del cliente, Length: 8211, dtype: int64\n"
     ]
    }
   ],
   "source": [
    "print(data['Valor de vida del cliente'].value_counts())"
   ]
  },
  {
   "cell_type": "code",
   "execution_count": 17,
   "id": "f83cac1a",
   "metadata": {},
   "outputs": [],
   "source": [
    "mask = data['Valor de vida del cliente'].notna() & data['Valor de vida del cliente'].str.contains('%')\n",
    "data.loc[mask, 'Valor de vida del cliente'] = pd.to_numeric(data.loc[mask, 'Valor de vida del cliente'].str.replace('%', '')) * 100"
   ]
  },
  {
   "cell_type": "code",
   "execution_count": 18,
   "id": "69370041",
   "metadata": {},
   "outputs": [
    {
     "data": {
      "text/plain": [
       "0               NaN\n",
       "1        69795359.0\n",
       "2       128874317.0\n",
       "3        76458618.0\n",
       "4        53630765.0\n",
       "           ...     \n",
       "7065    23405.98798\n",
       "7066    3096.511217\n",
       "7067    8163.890428\n",
       "7068    7524.442436\n",
       "7069    2611.836866\n",
       "Name: Valor de vida del cliente, Length: 12074, dtype: object"
      ]
     },
     "execution_count": 18,
     "metadata": {},
     "output_type": "execute_result"
    }
   ],
   "source": [
    "data['Valor de vida del cliente']"
   ]
  },
  {
   "cell_type": "code",
   "execution_count": 19,
   "id": "0854e4e1",
   "metadata": {},
   "outputs": [
    {
     "name": "stdout",
     "output_type": "stream",
     "text": [
      "Número de filas antes de eliminar duplicados: 12074\n",
      "Número de filas después de eliminar duplicados: 9135\n"
     ]
    }
   ],
   "source": [
    "# Revisar duplicados\n",
    "print(\"Número de filas antes de eliminar duplicados:\", len(data))\n",
    "data = data.drop_duplicates()\n",
    "print(\"Número de filas después de eliminar duplicados:\", len(data))"
   ]
  },
  {
   "cell_type": "code",
   "execution_count": 20,
   "id": "bea22f0a",
   "metadata": {},
   "outputs": [
    {
     "name": "stdout",
     "output_type": "stream",
     "text": [
      "Número de filas eliminadas: 3300\n"
     ]
    }
   ],
   "source": [
    "# Obtener el número de filas antes de aplicar el filtro\n",
    "num_filas_antes = len(data)\n",
    "\n",
    "# Filtrar clientes con ingreso menor o igual a 0\n",
    "mask = data['Ingreso'] <= 0\n",
    "data = data.drop(data[mask].index)\n",
    "\n",
    "# Obtener el número de filas después de aplicar el filtro\n",
    "num_filas_despues = len(data)\n",
    "\n",
    "# Imprimir el número de filas eliminadas\n",
    "print(\"Número de filas eliminadas:\", num_filas_antes - num_filas_despues)"
   ]
  }
 ],
 "metadata": {
  "kernelspec": {
   "display_name": "Python 3 (ipykernel)",
   "language": "python",
   "name": "python3"
  },
  "language_info": {
   "codemirror_mode": {
    "name": "ipython",
    "version": 3
   },
   "file_extension": ".py",
   "mimetype": "text/x-python",
   "name": "python",
   "nbconvert_exporter": "python",
   "pygments_lexer": "ipython3",
   "version": "3.9.13"
  }
 },
 "nbformat": 4,
 "nbformat_minor": 5
}
